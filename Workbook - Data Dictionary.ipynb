{
 "cells": [
  {
   "cell_type": "code",
   "execution_count": null,
   "metadata": {
    "colab": {
     "base_uri": "https://localhost:8080/",
     "height": 73
    },
    "id": "J7n4cuFMBJZv",
    "outputId": "4a8b8273-e826-4423-ef00-6a9c9ca6cb38"
   },
   "outputs": [],
   "source": [
    "from collections import Counter\n",
    "import string, shutil, pprint, nltk"
   ]
  },
  {
   "cell_type": "code",
   "execution_count": null,
   "metadata": {
    "id": "2BobsLhYBJZ6"
   },
   "outputs": [],
   "source": [
    "pp = pprint.PrettyPrinter(indent=4)"
   ]
  },
  {
   "cell_type": "code",
   "execution_count": null,
   "metadata": {
    "colab": {
     "base_uri": "https://localhost:8080/",
     "height": 215
    },
    "id": "qK9IPC8XBJaA",
    "outputId": "1f0e9056-03bf-476e-f289-42d42286fc68"
   },
   "outputs": [],
   "source": [
    "nltk.download(\"punkt\")\n",
    "nltk.download(\"wordnet\")\n",
    "nltk.download(\"averaged_perceptron_tagger\")\n",
    "nltk.download(\"stopwords\")\n",
    "nltk.download('vader_lexicon')"
   ]
  },
  {
   "cell_type": "code",
   "execution_count": null,
   "metadata": {},
   "outputs": [],
   "source": [
    "CHAT_TEXT_FILEPATH_LIST = [\"../../data/zoom_meeting_saved_chat_1.txt\", \"../../data/zoom_meeting_saved_chat_2.txt\"]\n",
    "COMBINED_TEXT_FILEPATH = \"../../data/zoom_meeting_saved_combined.txt\""
   ]
  },
  {
   "cell_type": "markdown",
   "metadata": {
    "id": "k-jZI6SJBJaI"
   },
   "source": [
    "## Chat Data Dictionary\n",
    "Build data dictionary from text file to match response to username"
   ]
  },
  {
   "cell_type": "code",
   "execution_count": null,
   "metadata": {
    "id": "1hLqRBT5BJaJ"
   },
   "outputs": [],
   "source": [
    "def remove_ascii(string):\n",
    "    updated_string = \"\".join(i for i in string if ord(i) < 128)\n",
    "    updated_string = updated_string.replace(\"\\n\", \" \")\n",
    "    updated_string  = updated_string.replace(\"\\r\", \" \")\n",
    "    \n",
    "    return updated_string"
   ]
  },
  {
   "cell_type": "code",
   "execution_count": null,
   "metadata": {
    "id": "BNd3n-rEBJaO"
   },
   "outputs": [],
   "source": [
    "def merge_text_files(filepath, list_of_files):\n",
    "    merged_files = []\n",
    "    \n",
    "    with open(filepath, \"w\") as outfile:\n",
    "    \n",
    "        for file_name in list_of_files:\n",
    "        \n",
    "            with open(file_name) as infile:\n",
    "                merged_files.append(shutil.copyfileobj(infile, outfile))\n",
    "            \n",
    "        return merged_files"
   ]
  },
  {
   "cell_type": "code",
   "execution_count": null,
   "metadata": {},
   "outputs": [],
   "source": [
    "merged_text_files = merge_text_files(COMBINED_TEXT_FILEPATH, CHAT_TEXT_FILEPATH_LIST)"
   ]
  },
  {
   "cell_type": "code",
   "execution_count": null,
   "metadata": {
    "id": "OtLRG2PFBJaU",
    "scrolled": true
   },
   "outputs": [],
   "source": [
    "def read_text_file(filepath):\n",
    "    chat_text_file = open(filepath, \"r\")\n",
    "    lines = chat_text_file.readlines()\n",
    "    messages = []\n",
    "\n",
    "    for line in lines:\n",
    "        line = line.lower()\n",
    "        line = line.encode(\"ascii\", errors=\"ignore\")\n",
    "        line = line.decode()\n",
    "        split_lines = line.split(\"\\t\")\n",
    "        \n",
    "        if len(split_lines) > 2:\n",
    "            join_message = \" \".join(split_lines[1:])\n",
    "            messages.append([join_message])\n",
    "\n",
    "        if len(split_lines) <= 2:\n",
    "            messages.append(split_lines[1:])\n",
    "            \n",
    "    return messages"
   ]
  },
  {
   "cell_type": "code",
   "execution_count": null,
   "metadata": {},
   "outputs": [],
   "source": [
    "chat_messages_list = read_text_file(COMBINED_TEXT_FILEPATH)"
   ]
  },
  {
   "cell_type": "code",
   "execution_count": null,
   "metadata": {
    "id": "tLgcdlOCBJaf"
   },
   "outputs": [],
   "source": [
    "def get_usernames(messages_list):\n",
    "    zoom_usernames = []\n",
    "    \n",
    "    for message in messages_list:\n",
    "        \n",
    "        for text in message:\n",
    "            split_colon = text.split(\":\")\n",
    "            \n",
    "            if split_colon[0] != \"\":\n",
    "                zoom_usernames.append(split_colon[0].strip())\n",
    "        \n",
    "    return list(set(zoom_usernames))"
   ]
  },
  {
   "cell_type": "code",
   "execution_count": null,
   "metadata": {},
   "outputs": [],
   "source": [
    "def filter_usernames(username_list, remove_names_list):\n",
    "    filter_names = []\n",
    "    \n",
    "    for username in username_list:\n",
    "        \n",
    "        if username not in remove_names_list:\n",
    "            filter_names.append(username)\n",
    "    \n",
    "    return filter_names"
   ]
  },
  {
   "cell_type": "code",
   "execution_count": null,
   "metadata": {
    "scrolled": true
   },
   "outputs": [],
   "source": [
    "user_name_list = get_usernames(chat_messages_list)\n",
    "names_to_remove = [\"\", \"\", \"\"]\n",
    "filtered_names = filter_usernames(user_name_list, names_to_remove)"
   ]
  },
  {
   "cell_type": "code",
   "execution_count": null,
   "metadata": {},
   "outputs": [],
   "source": [
    "def create_chat_data_dictionary(message_list, filtered_name_list):\n",
    "    name_dictionary = {}\n",
    "    counter = 0\n",
    "    \n",
    "    for index in message_list:\n",
    "\n",
    "        for username in index:\n",
    "            split_colon = username.split(\":\")\n",
    "\n",
    "            if split_colon[0] in filtered_name_list:\n",
    "                counter+=1\n",
    "                formatted_name = \"{}_{}\".format(split_colon[0].strip(), counter)\n",
    "                name_dictionary[formatted_name]= split_colon[1].strip()\n",
    "\n",
    "    return name_dictionary"
   ]
  },
  {
   "cell_type": "code",
   "execution_count": null,
   "metadata": {
    "scrolled": true
   },
   "outputs": [],
   "source": [
    "chat_data_dictionary = create_chat_data_dictionary(chat_messages_list, filtered_names)\n",
    "pp.pprint(chat_data_dictionary)"
   ]
  }
 ],
 "metadata": {
  "colab": {
   "collapsed_sections": [
    "k-jZI6SJBJaI",
    "jC58LJUsBJaq",
    "DSYTOeDFBJbe",
    "P825fhN-BJbt",
    "xRHcQzRABJcK",
    "4prOIwqPBJc0",
    "gxA5Is1sBJdO"
   ],
   "name": "Copy of Pathfinder Workbook 3 - NLTK.ipynb",
   "provenance": []
  },
  "kernelspec": {
   "display_name": "Python 3",
   "language": "python",
   "name": "python3"
  },
  "language_info": {
   "codemirror_mode": {
    "name": "ipython",
    "version": 3
   },
   "file_extension": ".py",
   "mimetype": "text/x-python",
   "name": "python",
   "nbconvert_exporter": "python",
   "pygments_lexer": "ipython3",
   "version": "3.7.4"
  }
 },
 "nbformat": 4,
 "nbformat_minor": 1
}
