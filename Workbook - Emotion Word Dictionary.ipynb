{
 "cells": [
  {
   "cell_type": "code",
   "execution_count": null,
   "metadata": {},
   "outputs": [],
   "source": [
    "from collections import Counter\n",
    "import matplotlib.pyplot as plt\n",
    "import pandas as pd"
   ]
  },
  {
   "cell_type": "code",
   "execution_count": null,
   "metadata": {},
   "outputs": [],
   "source": [
    "EMOTION_TEXT_FILEPATH = \"../../data/emotions.txt\""
   ]
  },
  {
   "cell_type": "markdown",
   "metadata": {},
   "source": [
    "#### Mapping Emotional Word with Chat Response\n",
    "Matching sentiment with message"
   ]
  },
  {
   "cell_type": "code",
   "execution_count": null,
   "metadata": {},
   "outputs": [],
   "source": [
    "def get_emotion_word_data(filepath, normalized_word_list, dictionary=False):\n",
    "    emotion_dictionary = {}\n",
    "    emotion_list = []\n",
    "\n",
    "    with open(filepath, \"r\") as file:\n",
    "\n",
    "        for line in file:\n",
    "            clear_line = line.replace(\"\\n\", '').replace(\",\", '').replace(\"'\", \"\").strip()\n",
    "            word, emotion = clear_line.split(':')\n",
    "\n",
    "            if word in normalized_word_list:\n",
    "                emotion_list.append(emotion.strip())\n",
    "\n",
    "                if word == \"None\":\n",
    "                    emotion_dictionary[word] = [word.strip()]\n",
    "\n",
    "                else:\n",
    "                    emotion_dictionary[word] = [emotion.strip()]\n",
    "        \n",
    "        file.close()\n",
    "\n",
    "    if dictionary:\n",
    "        return emotion_dictionary\n",
    "    \n",
    "    else:\n",
    "        return emotion_list"
   ]
  },
  {
   "cell_type": "code",
   "execution_count": null,
   "metadata": {},
   "outputs": [],
   "source": [
    "%store -r normalized_text\n",
    "emotion_dictionary = get_emotion_word_data(EMOTION_TEXT_FILEPATH, normalized_text, dictionary=True)\n",
    "emotion_list = get_emotion_word_data(EMOTION_TEXT_FILEPATH, normalized_text, dictionary=False)"
   ]
  },
  {
   "cell_type": "code",
   "execution_count": null,
   "metadata": {},
   "outputs": [],
   "source": [
    "word_counter_from_dict = Counter(emotion_dictionary)\n",
    "word_counter_from_list = Counter(emotion_list)"
   ]
  },
  {
   "cell_type": "code",
   "execution_count": null,
   "metadata": {},
   "outputs": [],
   "source": [
    "def get_emotion_word_data(filepath, normalized_word_list, dictionary=False):\n",
    "    emotion_dictionary = {}\n",
    "    emotion_list = []\n",
    "\n",
    "    with open(filepath, \"r\") as file:\n",
    "\n",
    "        for line in file:\n",
    "            clear_line = line.replace(\"\\n\", '').replace(\",\", '').replace(\"'\", \"\").strip()\n",
    "            word, emotion = clear_line.split(':')\n",
    "\n",
    "            if word in normalized_word_list:\n",
    "                emotion_list.append(emotion.strip())\n",
    "\n",
    "                if word == \"None\":\n",
    "                    emotion_dictionary[word] = [word.strip()]\n",
    "\n",
    "                else:\n",
    "                    emotion_dictionary[word] = [emotion.strip()]\n",
    "        \n",
    "        file.close()\n",
    "\n",
    "    if dictionary:\n",
    "        return emotion_dictionary\n",
    "    \n",
    "    else:\n",
    "        return emotion_list"
   ]
  },
  {
   "cell_type": "code",
   "execution_count": null,
   "metadata": {},
   "outputs": [],
   "source": [
    "emotion_dictionary = get_emotion_word_data(EMOTION_TEXT_FILEPATH, normalized_text, dictionary=True)\n",
    "emotion_list = get_emotion_word_data(EMOTION_TEXT_FILEPATH, normalized_text, dictionary=False)"
   ]
  },
  {
   "cell_type": "code",
   "execution_count": null,
   "metadata": {},
   "outputs": [],
   "source": [
    "word_counter_from_dict = Counter(emotion_dictionary)\n",
    "word_counter_from_list = Counter(emotion_list)"
   ]
  },
  {
   "cell_type": "code",
   "execution_count": null,
   "metadata": {},
   "outputs": [],
   "source": [
    "def update_word_emotion_data_dictionary(emotion_dict, word_counter_dict):\n",
    "    updated_emotion_dictionary = {}\n",
    "    \n",
    "    for emotion_key, emotion_value in emotion_dictionary.items():\n",
    "\n",
    "        for word_key, word_value in word_counter_dict.items():\n",
    "\n",
    "            if emotion_value[0] == word_key:\n",
    "                updated_emotion_dictionary[emotion_key] = [emotion_value[0], word_value]\n",
    "    \n",
    "    return updated_emotion_dictionary"
   ]
  },
  {
   "cell_type": "code",
   "execution_count": null,
   "metadata": {},
   "outputs": [],
   "source": [
    "updated_emotion_data = update_word_emotion_data_dictionary(emotion_dictionary, word_counter_from_list)"
   ]
  },
  {
   "cell_type": "code",
   "execution_count": null,
   "metadata": {},
   "outputs": [],
   "source": [
    "emotion_df = pd.DataFrame.from_dict(word_counter_from_list, orient='index').reset_index()\n",
    "emotion_df.columns = [\"word\", \"occurrence\"]; emotion_df"
   ]
  },
  {
   "cell_type": "code",
   "execution_count": null,
   "metadata": {},
   "outputs": [],
   "source": [
    "def combine_emotion_data(updated_emotion_dict, chat_dict):\n",
    "    combined_emotion_response_dict = {}\n",
    "\n",
    "    for emotion_key, emotion_value in updated_emotion_dict.items():\n",
    "\n",
    "        for message_key, message_value in chat_dict.items():\n",
    "\n",
    "            if emotion_key in message_value:\n",
    "                combined_emotion_response_dict[emotion_key] = [message_value, emotion_value]\n",
    "                \n",
    "    return combined_emotion_response_dict"
   ]
  },
  {
   "cell_type": "code",
   "execution_count": null,
   "metadata": {
    "scrolled": true
   },
   "outputs": [],
   "source": [
    "%store -r chat_data_dictionary\n",
    "combined_emotion_response_dictionary = combine_emotion_data(updated_emotion_data, chat_data_dictionary); combined_emotion_response_dictionary"
   ]
  },
  {
   "cell_type": "code",
   "execution_count": null,
   "metadata": {},
   "outputs": [],
   "source": [
    "def generate_emotion_dataframe(combined_emotion_dict):\n",
    "    chat_word = []\n",
    "    emotion_word = []\n",
    "    chat_message = []\n",
    "    occurrence = []\n",
    "\n",
    "    for word, message in combined_emotion_dict.items():\n",
    "        chat_word.append(word)\n",
    "        chat_message.append(message[0])\n",
    "        emotion_word.append(message[1][0])\n",
    "        occurrence.append(message[1][1])\n",
    "    \n",
    "    emotion_response_df = pd.DataFrame()\n",
    "    emotion_response_df[\"chat_word\"] = chat_word\n",
    "    emotion_response_df[\"emotion_word\"] = emotion_word\n",
    "    emotion_response_df[\"chat_message\"] = chat_message\n",
    "    emotion_response_df[\"occurrence\"] = occurrence\n",
    "    \n",
    "    return emotion_response_df"
   ]
  },
  {
   "cell_type": "code",
   "execution_count": null,
   "metadata": {},
   "outputs": [],
   "source": [
    "emotion_response_df = generate_emotion_dataframe(combined_emotion_response_dictionary); emotion_response_df"
   ]
  },
  {
   "cell_type": "code",
   "execution_count": null,
   "metadata": {},
   "outputs": [],
   "source": [
    "fig, ax = plt.subplots()\n",
    "ax.bar(word_counter_from_list.keys(), \n",
    "       word_counter_from_list.values(), \n",
    "       color=\"#3498DB\")\n",
    "\n",
    "fig.autofmt_xdate()\n",
    "plt.savefig(\"../../data/sentiment_bar_chart.png\")\n",
    "plt.show()"
   ]
  },
  {
   "cell_type": "markdown",
   "metadata": {},
   "source": [
    "### Saved Dataframes as CSV"
   ]
  },
  {
   "cell_type": "code",
   "execution_count": null,
   "metadata": {},
   "outputs": [],
   "source": [
    "emotion_response_df.to_csv(\"\", index=False)"
   ]
  }
 ],
 "metadata": {
  "kernelspec": {
   "display_name": "Python 3",
   "language": "python",
   "name": "python3"
  },
  "language_info": {
   "codemirror_mode": {
    "name": "ipython",
    "version": 3
   },
   "file_extension": ".py",
   "mimetype": "text/x-python",
   "name": "python",
   "nbconvert_exporter": "python",
   "pygments_lexer": "ipython3",
   "version": "3.7.4"
  }
 },
 "nbformat": 4,
 "nbformat_minor": 2
}
